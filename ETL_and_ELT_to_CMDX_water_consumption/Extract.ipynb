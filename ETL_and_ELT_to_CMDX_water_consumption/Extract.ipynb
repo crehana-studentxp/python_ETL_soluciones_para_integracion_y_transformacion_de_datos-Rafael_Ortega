{
 "cells": [
  {
   "cell_type": "code",
   "execution_count": null,
   "id": "1b9de5e5-6c8c-45cb-871b-683c32422cbc",
   "metadata": {},
   "outputs": [],
   "source": [
    "import pandas as pd"
   ]
  },
  {
   "cell_type": "code",
   "execution_count": null,
   "id": "9c800609-1cce-4f97-877f-e7422f1f6a72",
   "metadata": {},
   "outputs": [],
   "source": []
  }
 ],
 "metadata": {
  "kernelspec": {
   "display_name": "crehana_md_bi_specialist",
   "language": "python",
   "name": "crehana_md_bi_specialist"
  },
  "language_info": {
   "name": ""
  }
 },
 "nbformat": 4,
 "nbformat_minor": 5
}
