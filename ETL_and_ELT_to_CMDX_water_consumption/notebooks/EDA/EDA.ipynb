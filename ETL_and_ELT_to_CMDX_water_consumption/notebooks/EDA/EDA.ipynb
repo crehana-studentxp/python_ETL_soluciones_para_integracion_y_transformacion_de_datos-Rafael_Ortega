{
 "cells": [
  {
   "cell_type": "markdown",
   "id": "c177b276-8302-4f9e-8a60-b03a532fd07c",
   "metadata": {},
   "source": [
    "# Importaciones"
   ]
  },
  {
   "cell_type": "code",
   "execution_count": null,
   "id": "56695bbc-1b55-4a44-a4e5-c0d9b6df2f87",
   "metadata": {},
   "outputs": [],
   "source": [
    "import json\n",
    "import matplotlib.pyplot as plt\n",
    "import pandas as pd\n",
    "import requests"
   ]
  },
  {
   "cell_type": "markdown",
   "id": "3e5a3f7d-4f13-48a0-a5c0-ce159b085774",
   "metadata": {},
   "source": [
    "# Leyendo los datos"
   ]
  },
  {
   "cell_type": "markdown",
   "id": "4a7ec958-c277-4263-a70d-8b76258d5401",
   "metadata": {},
   "source": [
    "Utilizaremos los datos de las solicitudes al INAI, por ser un dataset con más tipos de datos y otro posible tipo de complicaciones."
   ]
  },
  {
   "cell_type": "code",
   "execution_count": null,
   "id": "9fd018a5-6125-4290-b590-2be1467e633a",
   "metadata": {},
   "outputs": [],
   "source": [
    "data_raw = requests.get('https://api.datos.gob.mx/v1/inai.solicitudes')\n",
    "data_raw"
   ]
  },
  {
   "cell_type": "code",
   "execution_count": null,
   "id": "a5041789-4856-4cfc-9b17-f3c0c5609748",
   "metadata": {},
   "outputs": [],
   "source": [
    "data_raw = requests.get('https://api.datos.gob.mx/v1/inai.solicitudes')\n",
    "data = data_raw.text\n",
    "json_data = json.loads(data)\n",
    "pandas_data = pd.json_normalize(json_data['results'])\n",
    "pandas_data.head(5)"
   ]
  },
  {
   "cell_type": "markdown",
   "id": "c638c11f-330b-4d96-828e-4fde3e312f27",
   "metadata": {},
   "source": [
    "Tal como lo vimos en la clase de EDA, el objetivo de realizar este tipo de análisis es conocer los datos con los que resolveremos un problema y saber cuáles son las transformaciones que haremos en la etapa de Transform de un pipeline de datos.\n",
    "\n",
    "Primero, conoceremos el dataset completo haciendo una exploración de:\n",
    "* Número de variables\n",
    "* Número de renglones u observaciones\n",
    "* Número de observaciones únicas por variable\n",
    "* ¿Qué variables tenemos?\n",
    "* Número de variables numéricas\n",
    "* Número de variables de fecha\n",
    "* Número de variables categóricas\n",
    "* Número de variables de texto\n",
    "* Número de nulos"
   ]
  },
  {
   "cell_type": "code",
   "execution_count": null,
   "id": "b31d28ac-a3f4-4614-a015-31adf35e9a8b",
   "metadata": {},
   "outputs": [],
   "source": [
    "## Número de variables y Número de renglones\n",
    "shpe = pandas_data.shape\n",
    "print(\"Contamos con \",shpe[0],\" renglones y\", shpe[1], \" columnas.\")"
   ]
  },
  {
   "cell_type": "code",
   "execution_count": null,
   "id": "02c12bb3-cb37-45f1-b757-725dc1ddf4b7",
   "metadata": {},
   "outputs": [],
   "source": [
    "# Número de variables únicas por cada columna\n",
    "num_unique_vars = pd.DataFrame(pandas_data.nunique())\n",
    "num_unique_vars.columns = ['count_of_unique_variables']\n",
    "num_unique_vars"
   ]
  },
  {
   "cell_type": "code",
   "execution_count": null,
   "id": "ce4f1a2a-0376-423a-991f-83184d7515d4",
   "metadata": {},
   "outputs": [],
   "source": [
    "# ¿Qué variables tenemos?\n",
    "list(pandas_data.columns)"
   ]
  },
  {
   "cell_type": "markdown",
   "id": "860d42fc-f932-4e5d-b9f2-5f26288b1eb8",
   "metadata": {},
   "source": [
    "**Ojo!!!** Aqui podemos observar que tenemos una variable cuyo nombre de columna está vacío y que tiene un solo valor único. En la etapa de Transform, este tipo de datos debe ser verificado o eliminado o corregido."
   ]
  },
  {
   "cell_type": "code",
   "execution_count": null,
   "id": "418cded7-aba4-4ba7-b9b3-397b532ed81c",
   "metadata": {},
   "outputs": [],
   "source": [
    "# Tipos de datos de cada variable.\n",
    "data_types = pd.DataFrame(pandas_data.dtypes)\n",
    "data_types.columns = ['Data Type']\n",
    "data_types"
   ]
  },
  {
   "cell_type": "markdown",
   "id": "690ca6c1-a4f8-460d-8960-0c2c08f574e9",
   "metadata": {},
   "source": [
    "Aqui vemos que todas las variables nos aparecen como strings o texto.   \n",
    "¿Es esto real?   \n",
    "¿No hay fechas?  \n",
    "¿No hay variables numéricas?  \n"
   ]
  },
  {
   "cell_type": "code",
   "execution_count": null,
   "id": "5a2cad5d-2d02-44b7-a88f-0f9dd3a24856",
   "metadata": {},
   "outputs": [],
   "source": [
    "# Conteo de valores nulos\n",
    "pandas_data.isna().sum()"
   ]
  },
  {
   "cell_type": "markdown",
   "id": "d3da84bd-1a84-4940-bb8a-66bf78a9e580",
   "metadata": {},
   "source": [
    "### ¿Qué contiene cada variable?"
   ]
  },
  {
   "cell_type": "markdown",
   "id": "e907decc-57c1-449b-a8c5-66ea0d854d08",
   "metadata": {},
   "source": [
    "¿Qué tiene la columna sin nombre?"
   ]
  },
  {
   "cell_type": "code",
   "execution_count": null,
   "id": "8ed6bbfc-5802-40e0-893a-3dd32fb87202",
   "metadata": {},
   "outputs": [],
   "source": [
    "pandas_data[''].unique()"
   ]
  },
  {
   "cell_type": "markdown",
   "id": "1a5e3cde-5dc4-4d35-a5ef-06f96fc7779f",
   "metadata": {},
   "source": [
    "Está vacía, por lo tanto podríamos deshacernos de ella en la etapa del Transform."
   ]
  },
  {
   "cell_type": "markdown",
   "id": "c93d0520-a835-47d3-9c69-bfdc858f0697",
   "metadata": {},
   "source": [
    "Existe la columna `_id` y la columna Folio. ¿Cuál es el identificador de cada registro?"
   ]
  },
  {
   "cell_type": "code",
   "execution_count": null,
   "id": "3283eb16-01d5-4b81-b411-c4ed265249f4",
   "metadata": {},
   "outputs": [],
   "source": [
    "pandas_data['_id'].unique()"
   ]
  },
  {
   "cell_type": "code",
   "execution_count": null,
   "id": "65b1c937-7dab-43a3-bd32-abb7b6fe7f95",
   "metadata": {},
   "outputs": [],
   "source": [
    "pandas_data['FOLIO'].unique()"
   ]
  },
  {
   "cell_type": "markdown",
   "id": "48cb73a5-d915-4d83-93f9-3b86c840d71e",
   "metadata": {},
   "source": [
    "Este es el tipo de cosas que podría llegar a preguntársele al área de negocio, pero en este caso, no es la primera vez que ocupo este dataset, por lo que yo ya sé que `_id` nos indica el id de cuando fue cargada la información, mientras que `FOLIO`indica el identificador en sistemas de cada solicitud.\n",
    "\n",
    "Adicionalmente, a pesar de que `FOLIO` son una serie de números, sabemos que no tiene sentido convertirlo en una variable numérica, ya que es solo un identificador del registro.\n",
    "\n",
    "Lo que sucede con la columna `_id` es que en ocasiones, se pone un identificador de este tipo para saber si ya tienes o no este registro en tu base de datos, en caso de que quieras utilizarla como un input que se va registrando de forma histórica."
   ]
  },
  {
   "cell_type": "markdown",
   "id": "a35d6d3a-37f3-40be-8d04-ee25ae3e9f9a",
   "metadata": {},
   "source": [
    "#### Fecha Solicitud:"
   ]
  },
  {
   "cell_type": "code",
   "execution_count": null,
   "id": "9149580f-4864-4e58-834d-92c1272950a5",
   "metadata": {},
   "outputs": [],
   "source": [
    "pandas_data['FECHASOLICITUD'].unique()"
   ]
  },
  {
   "cell_type": "markdown",
   "id": "e677baf5-8939-4e09-91d4-b46de37e6523",
   "metadata": {},
   "source": [
    "Esta variable contiene fechas, por lo que debe ser transformada en una variable de ese tipo."
   ]
  },
  {
   "cell_type": "markdown",
   "id": "b4544fac-f80e-4776-baa2-844d249c63aa",
   "metadata": {},
   "source": [
    "#### Dependencia:"
   ]
  },
  {
   "cell_type": "code",
   "execution_count": null,
   "id": "06f567e8-bcd0-460b-b7b2-04c581da716b",
   "metadata": {},
   "outputs": [],
   "source": [
    "pandas_data['DEPENDENCIA'].unique()"
   ]
  },
  {
   "cell_type": "code",
   "execution_count": null,
   "id": "1157420d-ba53-45f7-a3aa-7c3e4d216c01",
   "metadata": {},
   "outputs": [],
   "source": []
  },
  {
   "cell_type": "markdown",
   "id": "7eeb0d26-614b-48fc-96a4-0fbc7dbfdec9",
   "metadata": {},
   "source": [
    "#### Estatus"
   ]
  },
  {
   "cell_type": "code",
   "execution_count": null,
   "id": "998705fd-8056-44b2-ae12-af512746ec32",
   "metadata": {},
   "outputs": [],
   "source": [
    "pandas_data['ESTATUS'].unique()"
   ]
  },
  {
   "cell_type": "code",
   "execution_count": null,
   "id": "ac599df5-65c0-4789-b5f2-c8a62f438708",
   "metadata": {},
   "outputs": [],
   "source": []
  },
  {
   "cell_type": "markdown",
   "id": "18f2e8b5-004f-4aa5-8693-d0f1e42a3c97",
   "metadata": {},
   "source": [
    "#### Medio entrada:"
   ]
  },
  {
   "cell_type": "code",
   "execution_count": null,
   "id": "925dcf8b-2993-4a91-ab8c-d7ebe640b276",
   "metadata": {},
   "outputs": [],
   "source": [
    "pandas_data['MEDIOENTRADA'].unique()"
   ]
  },
  {
   "cell_type": "code",
   "execution_count": null,
   "id": "49f754a4-596e-421c-a368-547543c2b004",
   "metadata": {},
   "outputs": [],
   "source": []
  },
  {
   "cell_type": "markdown",
   "id": "dcd17253-db46-4097-9d38-877814c7a763",
   "metadata": {},
   "source": [
    "####  Tipo Solicitud:"
   ]
  },
  {
   "cell_type": "code",
   "execution_count": null,
   "id": "bf958cbe-ba52-404e-8c1e-7a8f77dd2858",
   "metadata": {},
   "outputs": [],
   "source": [
    "pandas_data['TIPOSOLICITUD'].unique()"
   ]
  },
  {
   "cell_type": "code",
   "execution_count": null,
   "id": "3d307fff-5d97-4268-9638-22eda307c08f",
   "metadata": {},
   "outputs": [],
   "source": []
  },
  {
   "cell_type": "markdown",
   "id": "23912b59-1ece-43c8-bac6-ef162c4115ac",
   "metadata": {},
   "source": [
    "#### Descripción solicitud:"
   ]
  },
  {
   "cell_type": "code",
   "execution_count": null,
   "id": "f410b30c-10e0-41f5-92c3-99596a27a880",
   "metadata": {},
   "outputs": [],
   "source": [
    "pandas_data['DESCRIPCIONSOLICITUD'].unique()"
   ]
  },
  {
   "cell_type": "code",
   "execution_count": null,
   "id": "be8da0d2-925a-4c53-8a78-050f5dfc1f9d",
   "metadata": {},
   "outputs": [],
   "source": []
  },
  {
   "cell_type": "markdown",
   "id": "01821e85-8c9b-4b86-9f5f-8b0250002521",
   "metadata": {},
   "source": [
    "#### Otros Datos:"
   ]
  },
  {
   "cell_type": "code",
   "execution_count": null,
   "id": "5a75864a-a387-4a29-b76a-b3ce49c68dd7",
   "metadata": {},
   "outputs": [],
   "source": [
    "pandas_data['OTROSDATOS'].unique()"
   ]
  },
  {
   "cell_type": "code",
   "execution_count": null,
   "id": "fdf2580e-900c-46b1-92c1-6d036fbc277c",
   "metadata": {},
   "outputs": [],
   "source": []
  },
  {
   "cell_type": "markdown",
   "id": "4c3e86a6-448a-4cf2-92d7-40925a513d55",
   "metadata": {},
   "source": [
    "#### Archivo adjunto solicitud"
   ]
  },
  {
   "cell_type": "code",
   "execution_count": null,
   "id": "e066bd0c-83a5-433d-8194-4bd8fa21b17a",
   "metadata": {},
   "outputs": [],
   "source": [
    "pandas_data['ARCHIVOADJUNTOSOLICITUD'].unique()"
   ]
  },
  {
   "cell_type": "code",
   "execution_count": null,
   "id": "14200700-b5f8-48df-afbb-cad690e3e44c",
   "metadata": {},
   "outputs": [],
   "source": []
  },
  {
   "cell_type": "markdown",
   "id": "9dc48126-b94f-4285-8bb4-5dc67b494355",
   "metadata": {},
   "source": [
    "#### Medio Entrega"
   ]
  },
  {
   "cell_type": "code",
   "execution_count": null,
   "id": "2116e372-470f-44aa-b3aa-309bea32ed13",
   "metadata": {},
   "outputs": [],
   "source": [
    "pandas_data['MEDIOENTREGA'].unique()"
   ]
  },
  {
   "cell_type": "code",
   "execution_count": null,
   "id": "29530c6d-af8e-4f9b-a0b0-2477105404d7",
   "metadata": {},
   "outputs": [],
   "source": []
  },
  {
   "cell_type": "markdown",
   "id": "20fbe8ba-ca03-420c-98a6-e128d528f7bf",
   "metadata": {},
   "source": [
    "#### Fecha Limite"
   ]
  },
  {
   "cell_type": "code",
   "execution_count": null,
   "id": "78aad1f9-cbe8-476f-a749-04d0e331bdfa",
   "metadata": {},
   "outputs": [],
   "source": [
    "pandas_data['FECHALIMITE'].unique()"
   ]
  },
  {
   "cell_type": "code",
   "execution_count": null,
   "id": "889d5e1c-9372-45a3-bbfe-7778272cccd4",
   "metadata": {},
   "outputs": [],
   "source": []
  },
  {
   "cell_type": "markdown",
   "id": "2b30c054-28cd-45cd-877c-b35ec1158094",
   "metadata": {},
   "source": [
    "#### Respuesta"
   ]
  },
  {
   "cell_type": "code",
   "execution_count": null,
   "id": "7a5c3c5a-3b2a-460a-a5ae-a87fae033063",
   "metadata": {},
   "outputs": [],
   "source": [
    "pandas_data['RESPUESTA'].unique()"
   ]
  },
  {
   "cell_type": "code",
   "execution_count": null,
   "id": "8a0d6622-84af-4b60-a498-cf5c677293d3",
   "metadata": {},
   "outputs": [],
   "source": []
  },
  {
   "cell_type": "markdown",
   "id": "7392f9cc-a848-4f8e-a5e2-56b234c36a38",
   "metadata": {},
   "source": [
    "#### Texto Respuesta"
   ]
  },
  {
   "cell_type": "code",
   "execution_count": null,
   "id": "2c4d7d77-0e7f-4458-acf0-0311fc966921",
   "metadata": {},
   "outputs": [],
   "source": [
    "pandas_data['TEXTORESPUESTA'].unique()"
   ]
  },
  {
   "cell_type": "code",
   "execution_count": null,
   "id": "38555d56-6796-4417-8175-c03135053c46",
   "metadata": {},
   "outputs": [],
   "source": []
  },
  {
   "cell_type": "markdown",
   "id": "08fadc92-1801-4946-b267-ff08ef7c69b3",
   "metadata": {},
   "source": [
    "#### Archivo Respuesta"
   ]
  },
  {
   "cell_type": "code",
   "execution_count": null,
   "id": "d7542ba7-6a22-4982-8bbb-872a9ee075c3",
   "metadata": {},
   "outputs": [],
   "source": [
    "pandas_data['ARCHIVORESPUESTA'].unique()"
   ]
  },
  {
   "cell_type": "code",
   "execution_count": null,
   "id": "5350c670-fd2b-4d42-9a56-2730b629c61c",
   "metadata": {},
   "outputs": [],
   "source": []
  },
  {
   "cell_type": "markdown",
   "id": "b6337725-8e6f-4f55-93da-a29882aee77d",
   "metadata": {},
   "source": [
    "#### Fecha Respuesta:"
   ]
  },
  {
   "cell_type": "code",
   "execution_count": null,
   "id": "cf1f22d5-6e24-41c3-87c7-af630f332f2c",
   "metadata": {},
   "outputs": [],
   "source": [
    "pandas_data['FECHARESPUESTA'].unique()"
   ]
  },
  {
   "cell_type": "code",
   "execution_count": null,
   "id": "88a38c7a-cbab-4e9d-8483-b7fe543c1b50",
   "metadata": {},
   "outputs": [],
   "source": []
  },
  {
   "cell_type": "markdown",
   "id": "02977f8b-b72f-4eed-894b-36202f05193e",
   "metadata": {},
   "source": [
    "#### Pais"
   ]
  },
  {
   "cell_type": "code",
   "execution_count": null,
   "id": "eeea1be5-0064-4ac8-b5ee-c97fc07e214c",
   "metadata": {},
   "outputs": [],
   "source": [
    "pandas_data['PAIS'].unique()"
   ]
  },
  {
   "cell_type": "code",
   "execution_count": null,
   "id": "e83c0e75-658e-43b1-84b0-4603d71877df",
   "metadata": {},
   "outputs": [],
   "source": []
  },
  {
   "cell_type": "markdown",
   "id": "ba2f7032-2897-497f-a49f-21d8b913b8e3",
   "metadata": {},
   "source": [
    "#### Estado"
   ]
  },
  {
   "cell_type": "code",
   "execution_count": null,
   "id": "34a54c99-be26-4717-8aa8-20fd8ee00516",
   "metadata": {},
   "outputs": [],
   "source": [
    "pandas_data['ESTADO'].unique()"
   ]
  },
  {
   "cell_type": "code",
   "execution_count": null,
   "id": "56d3c84b-0f72-41f9-b675-f380d0b91fda",
   "metadata": {},
   "outputs": [],
   "source": []
  },
  {
   "cell_type": "markdown",
   "id": "24ed12a5-60b0-4c4e-8822-6eec75369e3a",
   "metadata": {},
   "source": [
    "#### Municipio"
   ]
  },
  {
   "cell_type": "code",
   "execution_count": null,
   "id": "a01d007a-c64d-421c-81af-04b3e5e1ad0e",
   "metadata": {},
   "outputs": [],
   "source": [
    "pandas_data['MUNICIPIO'].unique()"
   ]
  },
  {
   "cell_type": "code",
   "execution_count": null,
   "id": "6539657c-3eb1-466b-9eb9-97640d45dc7d",
   "metadata": {},
   "outputs": [],
   "source": []
  },
  {
   "cell_type": "markdown",
   "id": "fcba8086-7f83-4b0b-ab88-ad4e2b1eeaca",
   "metadata": {},
   "source": [
    "#### Codigo Postal"
   ]
  },
  {
   "cell_type": "code",
   "execution_count": null,
   "id": "808dac21-fd4f-4e58-a7be-2eb7f2d4d344",
   "metadata": {},
   "outputs": [],
   "source": [
    "pandas_data['CODIGOPOSTAL'].unique()"
   ]
  },
  {
   "cell_type": "code",
   "execution_count": null,
   "id": "0cc10cf0-da18-4b54-b122-ff2fead6ad8a",
   "metadata": {},
   "outputs": [],
   "source": [
    "codigo_postal_cero = pandas_data.loc[pandas_data['CODIGOPOSTAL']=='0']\n",
    "codigo_postal_cero"
   ]
  },
  {
   "cell_type": "code",
   "execution_count": null,
   "id": "bb4b9d4f-4696-4e8d-8e91-23ebcd802e8b",
   "metadata": {},
   "outputs": [],
   "source": [
    "codigo_postal_uno = pandas_data.loc[pandas_data['CODIGOPOSTAL']=='1']\n",
    "codigo_postal_uno"
   ]
  },
  {
   "cell_type": "markdown",
   "id": "4d3effa2-3ef3-41bc-87c6-e95a006c077c",
   "metadata": {},
   "source": [
    "#### Sector"
   ]
  },
  {
   "cell_type": "code",
   "execution_count": null,
   "id": "ad03d1b1-d3ee-4b34-8db4-94a532f7e6ab",
   "metadata": {},
   "outputs": [],
   "source": [
    "pandas_data['SECTOR'].unique()"
   ]
  },
  {
   "cell_type": "markdown",
   "id": "dafe1371-bd59-4071-bfcb-5ae8ae1797e9",
   "metadata": {},
   "source": [
    "¿Qué sabemos del dataset?"
   ]
  },
  {
   "cell_type": "markdown",
   "id": "bc6e2951-4909-412d-921b-b966f87ebf65",
   "metadata": {},
   "source": [
    "* Contamos con  100  renglones y 22  columnas.\n",
    "* Todos los nombres de columnas están en mayúsculas. --> Si negocio lo solicita, podrían dejarse todos en minúsculas.\n",
    "* Tenemos 3 variables que tienen solo un valor, pero una de ellas es nombre de columna vacío y contenido vacío, por lo tanto habría que quitarla.\n",
    "* Tenemos 3 variables que se están tomando como de tipo String (o texto), pero deben estar en formato de fecha o timestamp.\n",
    "* En el conteo de NA´s nos sale que no hay ninguno. Sin embargo, al revisar los datos a detalle podemos ver que estos nulos están representados con vacío (''), por lo que esto deberá ser cambiado en la etapa de Transform.\n",
    "* Dos variables contienen ligas a páginas de internet. Podríamos suponer, con fines de hacer una transformación más, que se quiere mantener esta información privada, para que no todos tuvieran acceso a ella.\n",
    "* La columna `_id` no necesariamente debería llegar al usuario final, pues es un indicador más para quien hace la extracción de los datos que de quien hace analítica de datos.\n",
    "* Las columnas de tipo texto tienen acentos, caracteres especiales, Altas y Bajas.\n",
    "* Si negocio lo solicitara, podría requerirse quitar las columnas con una sola variable, Este tipo de información debe ser validada con el área de negocio.\n",
    "* En el caso de la variable `CODIGOPOSTAL` podríamos sacar dos conclusiones: \n",
    "    1. el valor que se utiliza para números nulos es el 0\n",
    "    2. podría parecer que debe ser numérica, pero en realidad debe ser de tipo String, pues no tiene sentido usarla como numérica.\n",
    "* En cuanto a la variable `FECHALIMITE`, si el plazo fuera uno fijo establecido se podría inputar desde la fecha de solicitud, sumandole los días que se tienen como fecha límite.\n",
    "* En la variable `TEXTORESPUESTA`, se tienen algunos datos duplicados que parecería que no lo están. Para esto, podría ser necesario hacer una modificación manualmente. \n",
    "\n",
    "![image.png](../../imagenes/eda_images/eda_img_01.jpg)\n",
    "\n",
    "\n",
    "Toda esta información deberá ser utilizada en la etapa de transform para limpiar y estandarizar los datos."
   ]
  },
  {
   "cell_type": "markdown",
   "id": "03182eba-f0f4-4221-b043-7de225f32966",
   "metadata": {},
   "source": []
  },
  {
   "cell_type": "code",
   "execution_count": null,
   "id": "74f3f028-b6fe-4567-9235-ddbfd8da1315",
   "metadata": {},
   "outputs": [],
   "source": []
  }
 ],
 "metadata": {
  "kernelspec": {
   "display_name": "Python 3 (ipykernel)",
   "language": "python",
   "name": "python3"
  },
  "language_info": {
   "codemirror_mode": {
    "name": "ipython",
    "version": 3
   },
   "file_extension": ".py",
   "mimetype": "text/x-python",
   "name": "python",
   "nbconvert_exporter": "python",
   "pygments_lexer": "ipython3",
   "version": "3.7.9"
  }
 },
 "nbformat": 4,
 "nbformat_minor": 5
}
