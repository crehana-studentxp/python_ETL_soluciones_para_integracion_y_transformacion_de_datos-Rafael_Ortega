{
 "cells": [
  {
   "cell_type": "markdown",
   "id": "644cb8a7-b3bf-42fe-a76c-8239b08176cb",
   "metadata": {},
   "source": [
    "# 1. Extracción"
   ]
  },
  {
   "cell_type": "code",
   "execution_count": null,
   "id": "af399d9c-7ee2-471b-8478-66a86b19aceb",
   "metadata": {},
   "outputs": [],
   "source": [
    "import pandas as pd\n",
    "import configparser\n",
    "import boto3"
   ]
  },
  {
   "cell_type": "markdown",
   "id": "c31e7712-f326-4c31-a144-659f33273490",
   "metadata": {},
   "source": [
    "Liga para el dataset de [consumo de agua](https://datos.cdmx.gob.mx/dataset/consumo-agua)"
   ]
  },
  {
   "cell_type": "code",
   "execution_count": null,
   "id": "71897ef8-3e9b-46cf-a800-40c235a70b5f",
   "metadata": {},
   "outputs": [],
   "source": [
    "consumo_agua = pd.read_csv('https://datos.cdmx.gob.mx/dataset/eb38823c-488a-49e8-a2cf-62e628fa246f/resource/2263bf74-c0ed-4e7c-bb9c-73f0624ac1a9/download/consumo-agua.csv')\n",
    "consumo_agua.head(2)"
   ]
  },
  {
   "cell_type": "markdown",
   "id": "d3ef930a-723b-4e2c-814d-1f1721986b5d",
   "metadata": {},
   "source": [
    "# 2. Carga a S3"
   ]
  },
  {
   "cell_type": "code",
   "execution_count": null,
   "id": "b2b08730-0c76-4901-97d1-a35d827b8c2b",
   "metadata": {},
   "outputs": [],
   "source": [
    "consumo_agua.to_csv('../../data/consumo_agua.csv',index=False)"
   ]
  },
  {
   "cell_type": "code",
   "execution_count": null,
   "id": "6689cec3-c84c-4f86-a6cc-59e9d116d478",
   "metadata": {},
   "outputs": [],
   "source": [
    "# Load the aws_boto_credentials values\n",
    "parser = configparser.ConfigParser()\n",
    "parser.read(\"../../pipeline.conf\")\n",
    "access_key = parser.get(\"aws_boto_credentials\",\"access_key\")\n",
    "secret_key = parser.get(\"aws_boto_credentials\",\"secret_key\")\n",
    "bucket_name = parser.get(\"aws_boto_credentials\",\"bucket_name\")\n",
    "\n",
    "s3_client = boto3.client('s3',aws_access_key_id = access_key, aws_secret_access_key = secret_key)\n",
    "consumo_agua_path = \"../../data/consumo_agua.csv\"\n",
    "s3_file_name  = \"data_raw/consumo_agua.csv\""
   ]
  },
  {
   "cell_type": "code",
   "execution_count": null,
   "id": "c93d433b-bbf1-42f5-96a3-932be54fa83c",
   "metadata": {},
   "outputs": [],
   "source": [
    "s3_client.upload_file(\n",
    "    consumo_agua_path,\n",
    "    bucket_name,\n",
    "    s3_file_name)"
   ]
  },
  {
   "cell_type": "markdown",
   "id": "224526bd-d759-4d6a-baed-c5401852548b",
   "metadata": {},
   "source": [
    "# 3. Extracción desde S3"
   ]
  },
  {
   "cell_type": "code",
   "execution_count": null,
   "id": "3798b7f2-3a21-4d54-b02c-8d76a8afb2f8",
   "metadata": {},
   "outputs": [],
   "source": [
    "# downloading file\n",
    "    \n",
    "with open('consumo_agua.csv', 'wb') as f:\n",
    "    s3_client.download_fileobj(bucket_name, s3_file_name, f)\n",
    "    \n",
    "consumo_agua = pd.read_csv('consumo_agua.csv')\n",
    "consumo_agua.head(2)"
   ]
  },
  {
   "cell_type": "code",
   "execution_count": null,
   "id": "e3989b0c-acd4-44da-b5af-493de0d7aa2a",
   "metadata": {},
   "outputs": [],
   "source": [
    "# Without downloading file\n",
    "response = s3_client.get_object(Bucket=bucket_name, Key=s3_file_name)\n",
    "\n",
    "status = response.get(\"ResponseMetadata\", {}).get(\"HTTPStatusCode\")\n",
    "\n",
    "if status == 200:\n",
    "    print(f\"Successful S3 get_object response. Status - {status}\")\n",
    "    consumo_agua = pd.read_csv(response.get(\"Body\"))\n",
    "    #print(consumo_agua)\n",
    "else:\n",
    "    print(f\"Unsuccessful S3 get_object response. Status - {status}\")\n",
    "    \n",
    "consumo_agua.head(2)"
   ]
  },
  {
   "cell_type": "markdown",
   "id": "9693ce9a-a43f-4d2c-b0ac-04d829d7e1cd",
   "metadata": {},
   "source": [
    "# 4. EDA"
   ]
  },
  {
   "cell_type": "code",
   "execution_count": null,
   "id": "9e985d9a-0597-4f7c-8812-91f550d44755",
   "metadata": {},
   "outputs": [],
   "source": [
    "consumo_agua.columns"
   ]
  },
  {
   "cell_type": "code",
   "execution_count": null,
   "id": "78e2159f-55b4-4b2b-a585-8eab2ea8b413",
   "metadata": {},
   "outputs": [],
   "source": [
    "len(consumo_agua.columns)"
   ]
  },
  {
   "cell_type": "code",
   "execution_count": null,
   "id": "33ecb24e-ca77-4325-b2ca-426d3d01456e",
   "metadata": {},
   "outputs": [],
   "source": [
    "consumo_agua.shape"
   ]
  },
  {
   "cell_type": "code",
   "execution_count": null,
   "id": "fea3abd9-c9a2-4e01-8a26-a7e520c014b8",
   "metadata": {},
   "outputs": [],
   "source": [
    "consumo_agua.dtypes"
   ]
  },
  {
   "cell_type": "code",
   "execution_count": null,
   "id": "2d97f3b1-08f5-4a04-8e6e-791436b2a1ce",
   "metadata": {},
   "outputs": [],
   "source": [
    "pd.DataFrame(consumo_agua.dtypes).value_counts()"
   ]
  },
  {
   "cell_type": "code",
   "execution_count": 17,
   "id": "e85b9fda-b603-4db3-a425-7942cf37b767",
   "metadata": {},
   "outputs": [
    {
     "data": {
      "text/plain": [
       "71102"
      ]
     },
     "execution_count": 17,
     "metadata": {},
     "output_type": "execute_result"
    }
   ],
   "source": [
    "consumo_agua['id'].nunique()"
   ]
  },
  {
   "cell_type": "code",
   "execution_count": 18,
   "id": "a412d878-7e80-434e-887c-6eda98f5a558",
   "metadata": {},
   "outputs": [
    {
     "data": {
      "text/html": [
       "<div>\n",
       "<style scoped>\n",
       "    .dataframe tbody tr th:only-of-type {\n",
       "        vertical-align: middle;\n",
       "    }\n",
       "\n",
       "    .dataframe tbody tr th {\n",
       "        vertical-align: top;\n",
       "    }\n",
       "\n",
       "    .dataframe thead th {\n",
       "        text-align: right;\n",
       "    }\n",
       "</style>\n",
       "<table border=\"1\" class=\"dataframe\">\n",
       "  <thead>\n",
       "    <tr style=\"text-align: right;\">\n",
       "      <th></th>\n",
       "      <th>count_of_unique_variables</th>\n",
       "    </tr>\n",
       "  </thead>\n",
       "  <tbody>\n",
       "    <tr>\n",
       "      <th>id</th>\n",
       "      <td>71102</td>\n",
       "    </tr>\n",
       "    <tr>\n",
       "      <th>geo_point_2d</th>\n",
       "      <td>22930</td>\n",
       "    </tr>\n",
       "    <tr>\n",
       "      <th>geo_shape</th>\n",
       "      <td>22922</td>\n",
       "    </tr>\n",
       "    <tr>\n",
       "      <th>consumo_total_mixto</th>\n",
       "      <td>24339</td>\n",
       "    </tr>\n",
       "    <tr>\n",
       "      <th>anio</th>\n",
       "      <td>1</td>\n",
       "    </tr>\n",
       "    <tr>\n",
       "      <th>nomgeo</th>\n",
       "      <td>17</td>\n",
       "    </tr>\n",
       "    <tr>\n",
       "      <th>consumo_prom_dom</th>\n",
       "      <td>52060</td>\n",
       "    </tr>\n",
       "    <tr>\n",
       "      <th>consumo_total_dom</th>\n",
       "      <td>47051</td>\n",
       "    </tr>\n",
       "    <tr>\n",
       "      <th>alcaldia</th>\n",
       "      <td>16</td>\n",
       "    </tr>\n",
       "    <tr>\n",
       "      <th>colonia</th>\n",
       "      <td>1340</td>\n",
       "    </tr>\n",
       "    <tr>\n",
       "      <th>consumo_prom_mixto</th>\n",
       "      <td>31911</td>\n",
       "    </tr>\n",
       "    <tr>\n",
       "      <th>consumo_total</th>\n",
       "      <td>56015</td>\n",
       "    </tr>\n",
       "    <tr>\n",
       "      <th>consumo_prom</th>\n",
       "      <td>62214</td>\n",
       "    </tr>\n",
       "    <tr>\n",
       "      <th>consumo_prom_no_dom</th>\n",
       "      <td>37440</td>\n",
       "    </tr>\n",
       "    <tr>\n",
       "      <th>bimestre</th>\n",
       "      <td>3</td>\n",
       "    </tr>\n",
       "    <tr>\n",
       "      <th>consumo_total_no_dom</th>\n",
       "      <td>27336</td>\n",
       "    </tr>\n",
       "    <tr>\n",
       "      <th>gid</th>\n",
       "      <td>71102</td>\n",
       "    </tr>\n",
       "    <tr>\n",
       "      <th>indice_des</th>\n",
       "      <td>4</td>\n",
       "    </tr>\n",
       "  </tbody>\n",
       "</table>\n",
       "</div>"
      ],
      "text/plain": [
       "                      count_of_unique_variables\n",
       "id                                        71102\n",
       "geo_point_2d                              22930\n",
       "geo_shape                                 22922\n",
       "consumo_total_mixto                       24339\n",
       "anio                                          1\n",
       "nomgeo                                       17\n",
       "consumo_prom_dom                          52060\n",
       "consumo_total_dom                         47051\n",
       "alcaldia                                     16\n",
       "colonia                                    1340\n",
       "consumo_prom_mixto                        31911\n",
       "consumo_total                             56015\n",
       "consumo_prom                              62214\n",
       "consumo_prom_no_dom                       37440\n",
       "bimestre                                      3\n",
       "consumo_total_no_dom                      27336\n",
       "gid                                       71102\n",
       "indice_des                                    4"
      ]
     },
     "execution_count": 18,
     "metadata": {},
     "output_type": "execute_result"
    }
   ],
   "source": [
    "# Número de variables únicas por cada columna\n",
    "num_unique_vars = pd.DataFrame(consumo_agua.nunique())\n",
    "num_unique_vars.columns = ['count_of_unique_variables']\n",
    "num_unique_vars"
   ]
  },
  {
   "cell_type": "code",
   "execution_count": 23,
   "id": "30d06ecc-3265-47a6-a83b-c0803115777f",
   "metadata": {},
   "outputs": [
    {
     "data": {
      "text/plain": [
       "id                         0\n",
       "geo_point_2d               0\n",
       "geo_shape                 24\n",
       "consumo_total_mixto     8327\n",
       "anio                       0\n",
       "nomgeo                     0\n",
       "consumo_prom_dom        4820\n",
       "consumo_total_dom       4820\n",
       "alcaldia                   0\n",
       "colonia                    0\n",
       "consumo_prom_mixto      8327\n",
       "consumo_total              0\n",
       "consumo_prom               0\n",
       "consumo_prom_no_dom        0\n",
       "bimestre                   0\n",
       "consumo_total_no_dom       0\n",
       "gid                        0\n",
       "indice_des                 0\n",
       "dtype: int64"
      ]
     },
     "execution_count": 23,
     "metadata": {},
     "output_type": "execute_result"
    }
   ],
   "source": [
    "# Conteo de valores nulos\n",
    "consumo_agua.isna().sum()"
   ]
  },
  {
   "cell_type": "code",
   "execution_count": 20,
   "id": "b782670e-fc40-4c4a-986e-7fc8a79cd5e3",
   "metadata": {},
   "outputs": [
    {
     "data": {
      "text/plain": [
       "array(['GUSTAVO A. MADERO', 'AZCAPOTZALCO', 'COYOACAN', 'TLALPAN',\n",
       "       'MILPA ALTA', 'ALVARO OBREGON', 'CUAJIMALPA', 'TLAHUAC',\n",
       "       'MAGDALENA CONTRERAS', 'XOCHIMILCO', 'IZTAPALAPA', 'IZTACALCO',\n",
       "       'BENITO JUAREZ', 'MIGUEL HIDALGO', 'CUAUHTEMOC',\n",
       "       'VENUSTIANO CARRANZA'], dtype=object)"
      ]
     },
     "execution_count": 20,
     "metadata": {},
     "output_type": "execute_result"
    }
   ],
   "source": [
    "consumo_agua['alcaldia'].unique()"
   ]
  },
  {
   "cell_type": "code",
   "execution_count": 19,
   "id": "7789b694-9dcf-4b64-b687-c1e81b236f55",
   "metadata": {},
   "outputs": [
    {
     "data": {
      "text/plain": [
       "array(['Gustavo A. Madero', 'Azcapotzalco', 'Coyoacán', 'Talpan',\n",
       "       'Milpa Alta', 'Álvaro Obregón', 'Cuajimalpa de Morelos', 'Tláhuac',\n",
       "       'La Magdalena Contreras', 'Xochimilco', 'Iztapalapa', 'Iztacalco',\n",
       "       'Benito Juárez', 'Miguel Hidalgo', 'Cuauhtémoc',\n",
       "       'Venustiano Carranza', 'Tlalpan'], dtype=object)"
      ]
     },
     "execution_count": 19,
     "metadata": {},
     "output_type": "execute_result"
    }
   ],
   "source": [
    "consumo_agua['nomgeo'].unique()"
   ]
  },
  {
   "cell_type": "code",
   "execution_count": 24,
   "id": "d0b60061-6908-47db-b05c-be8e6e4cf517",
   "metadata": {},
   "outputs": [
    {
     "data": {
      "text/plain": [
       "array(['ALTO', 'MEDIO', 'POPULAR', 'BAJO'], dtype=object)"
      ]
     },
     "execution_count": 24,
     "metadata": {},
     "output_type": "execute_result"
    }
   ],
   "source": [
    "consumo_agua['indice_des'].unique()"
   ]
  },
  {
   "cell_type": "markdown",
   "id": "0258afcc-6cf9-46b0-9a11-71f319dd0096",
   "metadata": {},
   "source": [
    "# 5. Transformaciones"
   ]
  },
  {
   "cell_type": "code",
   "execution_count": null,
   "id": "0287d19a-0ce6-49cb-8994-ff0cf1e9bff1",
   "metadata": {},
   "outputs": [],
   "source": [
    "consumo_agua.drop(columns = 'id')"
   ]
  },
  {
   "cell_type": "code",
   "execution_count": null,
   "id": "e2ec565e-16eb-4d5c-b22e-0d5f8bff7d06",
   "metadata": {},
   "outputs": [],
   "source": []
  },
  {
   "cell_type": "code",
   "execution_count": null,
   "id": "e8bda19e-bdb1-4566-a268-6ba7217f5d48",
   "metadata": {},
   "outputs": [],
   "source": []
  },
  {
   "cell_type": "code",
   "execution_count": null,
   "id": "2eaa1fab-3aa3-44f1-8a6a-63558ac7cd43",
   "metadata": {},
   "outputs": [],
   "source": []
  },
  {
   "cell_type": "code",
   "execution_count": null,
   "id": "905e1145-105d-442a-babd-93c1e25af366",
   "metadata": {},
   "outputs": [],
   "source": []
  },
  {
   "cell_type": "code",
   "execution_count": null,
   "id": "08383144-83d4-4255-bf88-af971e22463f",
   "metadata": {},
   "outputs": [],
   "source": []
  },
  {
   "cell_type": "markdown",
   "id": "1d9fbe88-317d-4aa6-b2f3-e8030a12752c",
   "metadata": {},
   "source": [
    "# 6. Carga a PostgreSQL"
   ]
  },
  {
   "cell_type": "code",
   "execution_count": null,
   "id": "832d698a-fc17-466a-acfa-12460ebff773",
   "metadata": {},
   "outputs": [],
   "source": []
  },
  {
   "cell_type": "code",
   "execution_count": null,
   "id": "c6c1cc3d-3faa-4fc6-a5f0-85beb6f2bf1b",
   "metadata": {},
   "outputs": [],
   "source": []
  },
  {
   "cell_type": "code",
   "execution_count": null,
   "id": "d5a336c1-943f-4aad-99e2-7c22dfda1aac",
   "metadata": {},
   "outputs": [],
   "source": []
  },
  {
   "cell_type": "code",
   "execution_count": 26,
   "id": "8f9ae526-e080-42cd-aa0e-11098f21b8a5",
   "metadata": {},
   "outputs": [
    {
     "ename": "FileNotFoundError",
     "evalue": "[Errno 2] No such file or directory: '/extract_to_JSON/extraction_16_06_2003.json'",
     "output_type": "error",
     "traceback": [
      "\u001b[1;31m---------------------------------------------------------------------------\u001b[0m",
      "\u001b[1;31mFileNotFoundError\u001b[0m                         Traceback (most recent call last)",
      "\u001b[1;32m~\\AppData\\Local\\Temp\\ipykernel_1864\\359372757.py\u001b[0m in \u001b[0;36m<module>\u001b[1;34m\u001b[0m\n\u001b[1;32m----> 1\u001b[1;33m \u001b[1;32mwith\u001b[0m \u001b[0mopen\u001b[0m\u001b[1;33m(\u001b[0m\u001b[1;34m'/extract_to_JSON/extraction_16_06_2003.json'\u001b[0m\u001b[1;33m,\u001b[0m \u001b[1;34m'r'\u001b[0m\u001b[1;33m)\u001b[0m \u001b[1;32mas\u001b[0m \u001b[0mf\u001b[0m\u001b[1;33m:\u001b[0m\u001b[1;33m\u001b[0m\u001b[1;33m\u001b[0m\u001b[0m\n\u001b[0m\u001b[0;32m      2\u001b[0m     \u001b[0ms3_client\u001b[0m\u001b[1;33m.\u001b[0m\u001b[0mdownload_fileobj\u001b[0m\u001b[1;33m(\u001b[0m\u001b[0mbucket_name\u001b[0m\u001b[1;33m,\u001b[0m \u001b[0ms3_file_name\u001b[0m\u001b[1;33m,\u001b[0m \u001b[0mf\u001b[0m\u001b[1;33m)\u001b[0m\u001b[1;33m\u001b[0m\u001b[1;33m\u001b[0m\u001b[0m\n\u001b[0;32m      3\u001b[0m \u001b[1;33m\u001b[0m\u001b[0m\n\u001b[0;32m      4\u001b[0m \u001b[1;31m# consumo_agua = pd.read_csv('consumo_agua.csv')\u001b[0m\u001b[1;33m\u001b[0m\u001b[1;33m\u001b[0m\u001b[1;33m\u001b[0m\u001b[0m\n\u001b[0;32m      5\u001b[0m \u001b[1;31m# consumo_agua.head(2)\u001b[0m\u001b[1;33m\u001b[0m\u001b[1;33m\u001b[0m\u001b[1;33m\u001b[0m\u001b[0m\n",
      "\u001b[1;31mFileNotFoundError\u001b[0m: [Errno 2] No such file or directory: '/extract_to_JSON/extraction_16_06_2003.json'"
     ]
    }
   ],
   "source": [
    "with open('/extract_to_JSON/extraction_16_06_2003.json', 'r') as f:\n",
    "    s3_client.download_fileobj(bucket_name, s3_file_name, f)\n",
    "    \n",
    "# consumo_agua = pd.read_csv('consumo_agua.csv')\n",
    "# consumo_agua.head(2)"
   ]
  },
  {
   "cell_type": "code",
   "execution_count": 30,
   "id": "74ab0c68-24a8-44a3-b3b1-e5ad4e7d3ee6",
   "metadata": {},
   "outputs": [],
   "source": [
    "s3_file_name = 'extract_to_JSON/extraction_16-06-2003.json'"
   ]
  },
  {
   "cell_type": "code",
   "execution_count": 52,
   "id": "ebfdc368-7c5e-43b2-b703-7f55cffa6fd3",
   "metadata": {},
   "outputs": [
    {
     "name": "stdout",
     "output_type": "stream",
     "text": [
      "'0673800000103\n",
      "'0673800000203\n",
      "'0608400000103\n",
      "'0000700000103\n",
      "'0000700000203\n",
      "'0000700000303\n",
      "'1850000000103\n",
      "'0001100000103\n",
      "'1857600000103\n",
      "'0002100000103\n",
      "'0000600000103\n",
      "'0002700000103\n",
      "'1236000000103\n",
      "'2042100000103\n",
      "'0912000000103\n",
      "'2042100000203\n",
      "'0000400000103\n",
      "'0001700000103\n",
      "'1857200000103\n",
      "'0001300000103\n",
      "'0673800000303\n",
      "'0001700000203\n",
      "'0001600000103\n",
      "'0210000000103\n",
      "'0000900000103\n",
      "'0000900000203\n",
      "'1616100000103\n",
      "'0001000000103\n",
      "'0002700000203\n",
      "'0001000000203\n",
      "'1612100000103\n",
      "'1510000000103\n",
      "'1510000000203\n",
      "'0002000000103\n",
      "'0002700000303\n",
      "'1850000000203\n",
      "'1850000000303\n",
      "'0002000000203\n",
      "'0001100000203\n",
      "'0000400000203\n",
      "'0000600000203\n",
      "'1850000000403\n",
      "'1850000000503\n",
      "'1850000000603\n",
      "'1850000000703\n",
      "'0000600000303\n",
      "'1850000000803\n",
      "'1850000000903\n",
      "'1850000001003\n",
      "'1850000001103\n",
      "'2210300000103\n",
      "'0917900000103\n",
      "'1816400000103\n",
      "'0001400000103\n",
      "'0001400000203\n",
      "'0001400000303\n",
      "'1127900000103\n",
      "'1127900000203\n",
      "'1127900000303\n",
      "'1127900000503\n",
      "'1127900000403\n",
      "'0613100000103\n",
      "'1127900000603\n",
      "'1857500000103\n",
      "'2031200000103\n",
      "'1850000001203\n",
      "'0001200000103\n",
      "'1850000001303\n",
      "'1850000001403\n",
      "'0001400000403\n",
      "'0002700000403\n",
      "'1850000001503\n",
      "'0001600000203\n",
      "'0613100000203\n",
      "'1111200000103\n",
      "'1111200000203\n",
      "'2106800000103\n",
      "'0000600000403\n",
      "'0000600000503\n",
      "'1850000001603\n",
      "'0000400000303\n",
      "'1113700000103\n",
      "'1850000001703\n",
      "'1850000001803\n",
      "'1850000001903\n",
      "'1850000002003\n",
      "'1850000002103\n",
      "'0002200000103\n",
      "'1225000000103\n",
      "'0001100000303\n",
      "'0001700000303\n",
      "'0001500000103\n",
      "'0001500000203\n",
      "'0641000000103\n",
      "'0000900000303\n",
      "'0000900000403\n",
      "'0000900000503\n",
      "'0000900000603\n",
      "'0000900000703\n",
      "'0000900000803\n"
     ]
    }
   ],
   "source": [
    "# Without downloading file\n",
    "response = s3_client.get_object(Bucket=bucket_name, Key=s3_file_name)\n",
    "\n",
    "status = response.get(\"ResponseMetadata\", {}).get(\"HTTPStatusCode\")\n",
    "\n",
    "import json\n",
    "data = json.load(response.get(\"Body\"))\n",
    "for line in data['results']:\n",
    "    print(line.get('FOLIO'))\n",
    "# if status == 200:\n",
    "#     print(f\"Successful S3 get_object response. Status - {status}\")\n",
    "#     consumo_agua = pd.read_csv(response.get(\"Body\"))\n",
    "#     #print(consumo_agua)\n",
    "# else:\n",
    "#     print(f\"Unsuccessful S3 get_object response. Status - {status}\")\n",
    "    \n",
    "# consumo_agua.head(2)"
   ]
  },
  {
   "cell_type": "code",
   "execution_count": 33,
   "id": "36a86a8d-88f3-478a-805a-c31ac7bcd4d3",
   "metadata": {},
   "outputs": [
    {
     "data": {
      "text/plain": [
       "200"
      ]
     },
     "execution_count": 33,
     "metadata": {},
     "output_type": "execute_result"
    }
   ],
   "source": [
    "status"
   ]
  },
  {
   "cell_type": "code",
   "execution_count": 34,
   "id": "2ed089e3-d6f6-42ee-8f3f-621010f5cf28",
   "metadata": {},
   "outputs": [
    {
     "data": {
      "text/plain": [
       "<botocore.response.StreamingBody at 0x256a8850a88>"
      ]
     },
     "execution_count": 34,
     "metadata": {},
     "output_type": "execute_result"
    }
   ],
   "source": [
    "response.get(\"Body\")."
   ]
  },
  {
   "cell_type": "code",
   "execution_count": 47,
   "id": "f73a5b39-b99c-451a-9aca-0608e050027c",
   "metadata": {},
   "outputs": [
    {
     "ename": "JSONDecodeError",
     "evalue": "Expecting value: line 1 column 1 (char 0)",
     "output_type": "error",
     "traceback": [
      "\u001b[1;31m---------------------------------------------------------------------------\u001b[0m",
      "\u001b[1;31mJSONDecodeError\u001b[0m                           Traceback (most recent call last)",
      "\u001b[1;32m~\\AppData\\Local\\Temp\\ipykernel_1864\\507332410.py\u001b[0m in \u001b[0;36m<module>\u001b[1;34m\u001b[0m\n\u001b[0;32m      1\u001b[0m \u001b[1;32mimport\u001b[0m \u001b[0mjson\u001b[0m\u001b[1;33m\u001b[0m\u001b[1;33m\u001b[0m\u001b[0m\n\u001b[1;32m----> 2\u001b[1;33m \u001b[0mdata\u001b[0m \u001b[1;33m=\u001b[0m \u001b[0mjson\u001b[0m\u001b[1;33m.\u001b[0m\u001b[0mload\u001b[0m\u001b[1;33m(\u001b[0m\u001b[0mresponse\u001b[0m\u001b[1;33m.\u001b[0m\u001b[0mget\u001b[0m\u001b[1;33m(\u001b[0m\u001b[1;34m\"Body\"\u001b[0m\u001b[1;33m)\u001b[0m\u001b[1;33m)\u001b[0m\u001b[1;33m\u001b[0m\u001b[1;33m\u001b[0m\u001b[0m\n\u001b[0m\u001b[0;32m      3\u001b[0m \u001b[1;32mfor\u001b[0m \u001b[0mline\u001b[0m \u001b[1;32min\u001b[0m \u001b[0mdata\u001b[0m\u001b[1;33m[\u001b[0m\u001b[1;34m'results'\u001b[0m\u001b[1;33m]\u001b[0m\u001b[1;33m:\u001b[0m\u001b[1;33m\u001b[0m\u001b[1;33m\u001b[0m\u001b[0m\n\u001b[0;32m      4\u001b[0m     \u001b[0mline\u001b[0m\u001b[1;33m.\u001b[0m\u001b[0mitems\u001b[0m\u001b[1;33m(\u001b[0m\u001b[1;33m)\u001b[0m\u001b[1;33m\u001b[0m\u001b[1;33m\u001b[0m\u001b[0m\n",
      "\u001b[1;32mC:\\Program Files\\WindowsApps\\PythonSoftwareFoundation.Python.3.7_3.7.2544.0_x64__qbz5n2kfra8p0\\lib\\json\\__init__.py\u001b[0m in \u001b[0;36mload\u001b[1;34m(fp, cls, object_hook, parse_float, parse_int, parse_constant, object_pairs_hook, **kw)\u001b[0m\n\u001b[0;32m    294\u001b[0m         \u001b[0mcls\u001b[0m\u001b[1;33m=\u001b[0m\u001b[0mcls\u001b[0m\u001b[1;33m,\u001b[0m \u001b[0mobject_hook\u001b[0m\u001b[1;33m=\u001b[0m\u001b[0mobject_hook\u001b[0m\u001b[1;33m,\u001b[0m\u001b[1;33m\u001b[0m\u001b[1;33m\u001b[0m\u001b[0m\n\u001b[0;32m    295\u001b[0m         \u001b[0mparse_float\u001b[0m\u001b[1;33m=\u001b[0m\u001b[0mparse_float\u001b[0m\u001b[1;33m,\u001b[0m \u001b[0mparse_int\u001b[0m\u001b[1;33m=\u001b[0m\u001b[0mparse_int\u001b[0m\u001b[1;33m,\u001b[0m\u001b[1;33m\u001b[0m\u001b[1;33m\u001b[0m\u001b[0m\n\u001b[1;32m--> 296\u001b[1;33m         parse_constant=parse_constant, object_pairs_hook=object_pairs_hook, **kw)\n\u001b[0m\u001b[0;32m    297\u001b[0m \u001b[1;33m\u001b[0m\u001b[0m\n\u001b[0;32m    298\u001b[0m \u001b[1;33m\u001b[0m\u001b[0m\n",
      "\u001b[1;32mC:\\Program Files\\WindowsApps\\PythonSoftwareFoundation.Python.3.7_3.7.2544.0_x64__qbz5n2kfra8p0\\lib\\json\\__init__.py\u001b[0m in \u001b[0;36mloads\u001b[1;34m(s, encoding, cls, object_hook, parse_float, parse_int, parse_constant, object_pairs_hook, **kw)\u001b[0m\n\u001b[0;32m    346\u001b[0m             \u001b[0mparse_int\u001b[0m \u001b[1;32mis\u001b[0m \u001b[1;32mNone\u001b[0m \u001b[1;32mand\u001b[0m \u001b[0mparse_float\u001b[0m \u001b[1;32mis\u001b[0m \u001b[1;32mNone\u001b[0m \u001b[1;32mand\u001b[0m\u001b[1;33m\u001b[0m\u001b[1;33m\u001b[0m\u001b[0m\n\u001b[0;32m    347\u001b[0m             parse_constant is None and object_pairs_hook is None and not kw):\n\u001b[1;32m--> 348\u001b[1;33m         \u001b[1;32mreturn\u001b[0m \u001b[0m_default_decoder\u001b[0m\u001b[1;33m.\u001b[0m\u001b[0mdecode\u001b[0m\u001b[1;33m(\u001b[0m\u001b[0ms\u001b[0m\u001b[1;33m)\u001b[0m\u001b[1;33m\u001b[0m\u001b[1;33m\u001b[0m\u001b[0m\n\u001b[0m\u001b[0;32m    349\u001b[0m     \u001b[1;32mif\u001b[0m \u001b[0mcls\u001b[0m \u001b[1;32mis\u001b[0m \u001b[1;32mNone\u001b[0m\u001b[1;33m:\u001b[0m\u001b[1;33m\u001b[0m\u001b[1;33m\u001b[0m\u001b[0m\n\u001b[0;32m    350\u001b[0m         \u001b[0mcls\u001b[0m \u001b[1;33m=\u001b[0m \u001b[0mJSONDecoder\u001b[0m\u001b[1;33m\u001b[0m\u001b[1;33m\u001b[0m\u001b[0m\n",
      "\u001b[1;32mC:\\Program Files\\WindowsApps\\PythonSoftwareFoundation.Python.3.7_3.7.2544.0_x64__qbz5n2kfra8p0\\lib\\json\\decoder.py\u001b[0m in \u001b[0;36mdecode\u001b[1;34m(self, s, _w)\u001b[0m\n\u001b[0;32m    335\u001b[0m \u001b[1;33m\u001b[0m\u001b[0m\n\u001b[0;32m    336\u001b[0m         \"\"\"\n\u001b[1;32m--> 337\u001b[1;33m         \u001b[0mobj\u001b[0m\u001b[1;33m,\u001b[0m \u001b[0mend\u001b[0m \u001b[1;33m=\u001b[0m \u001b[0mself\u001b[0m\u001b[1;33m.\u001b[0m\u001b[0mraw_decode\u001b[0m\u001b[1;33m(\u001b[0m\u001b[0ms\u001b[0m\u001b[1;33m,\u001b[0m \u001b[0midx\u001b[0m\u001b[1;33m=\u001b[0m\u001b[0m_w\u001b[0m\u001b[1;33m(\u001b[0m\u001b[0ms\u001b[0m\u001b[1;33m,\u001b[0m \u001b[1;36m0\u001b[0m\u001b[1;33m)\u001b[0m\u001b[1;33m.\u001b[0m\u001b[0mend\u001b[0m\u001b[1;33m(\u001b[0m\u001b[1;33m)\u001b[0m\u001b[1;33m)\u001b[0m\u001b[1;33m\u001b[0m\u001b[1;33m\u001b[0m\u001b[0m\n\u001b[0m\u001b[0;32m    338\u001b[0m         \u001b[0mend\u001b[0m \u001b[1;33m=\u001b[0m \u001b[0m_w\u001b[0m\u001b[1;33m(\u001b[0m\u001b[0ms\u001b[0m\u001b[1;33m,\u001b[0m \u001b[0mend\u001b[0m\u001b[1;33m)\u001b[0m\u001b[1;33m.\u001b[0m\u001b[0mend\u001b[0m\u001b[1;33m(\u001b[0m\u001b[1;33m)\u001b[0m\u001b[1;33m\u001b[0m\u001b[1;33m\u001b[0m\u001b[0m\n\u001b[0;32m    339\u001b[0m         \u001b[1;32mif\u001b[0m \u001b[0mend\u001b[0m \u001b[1;33m!=\u001b[0m \u001b[0mlen\u001b[0m\u001b[1;33m(\u001b[0m\u001b[0ms\u001b[0m\u001b[1;33m)\u001b[0m\u001b[1;33m:\u001b[0m\u001b[1;33m\u001b[0m\u001b[1;33m\u001b[0m\u001b[0m\n",
      "\u001b[1;32mC:\\Program Files\\WindowsApps\\PythonSoftwareFoundation.Python.3.7_3.7.2544.0_x64__qbz5n2kfra8p0\\lib\\json\\decoder.py\u001b[0m in \u001b[0;36mraw_decode\u001b[1;34m(self, s, idx)\u001b[0m\n\u001b[0;32m    353\u001b[0m             \u001b[0mobj\u001b[0m\u001b[1;33m,\u001b[0m \u001b[0mend\u001b[0m \u001b[1;33m=\u001b[0m \u001b[0mself\u001b[0m\u001b[1;33m.\u001b[0m\u001b[0mscan_once\u001b[0m\u001b[1;33m(\u001b[0m\u001b[0ms\u001b[0m\u001b[1;33m,\u001b[0m \u001b[0midx\u001b[0m\u001b[1;33m)\u001b[0m\u001b[1;33m\u001b[0m\u001b[1;33m\u001b[0m\u001b[0m\n\u001b[0;32m    354\u001b[0m         \u001b[1;32mexcept\u001b[0m \u001b[0mStopIteration\u001b[0m \u001b[1;32mas\u001b[0m \u001b[0merr\u001b[0m\u001b[1;33m:\u001b[0m\u001b[1;33m\u001b[0m\u001b[1;33m\u001b[0m\u001b[0m\n\u001b[1;32m--> 355\u001b[1;33m             \u001b[1;32mraise\u001b[0m \u001b[0mJSONDecodeError\u001b[0m\u001b[1;33m(\u001b[0m\u001b[1;34m\"Expecting value\"\u001b[0m\u001b[1;33m,\u001b[0m \u001b[0ms\u001b[0m\u001b[1;33m,\u001b[0m \u001b[0merr\u001b[0m\u001b[1;33m.\u001b[0m\u001b[0mvalue\u001b[0m\u001b[1;33m)\u001b[0m \u001b[1;32mfrom\u001b[0m \u001b[1;32mNone\u001b[0m\u001b[1;33m\u001b[0m\u001b[1;33m\u001b[0m\u001b[0m\n\u001b[0m\u001b[0;32m    356\u001b[0m         \u001b[1;32mreturn\u001b[0m \u001b[0mobj\u001b[0m\u001b[1;33m,\u001b[0m \u001b[0mend\u001b[0m\u001b[1;33m\u001b[0m\u001b[1;33m\u001b[0m\u001b[0m\n",
      "\u001b[1;31mJSONDecodeError\u001b[0m: Expecting value: line 1 column 1 (char 0)"
     ]
    }
   ],
   "source": [
    "import json\n",
    "data = json.load(response.get(\"Body\"))\n",
    "for line in data['results']:\n",
    "    line.items()"
   ]
  },
  {
   "cell_type": "code",
   "execution_count": null,
   "id": "7eb845b9-4c9f-4799-8473-d3e45b2033d0",
   "metadata": {},
   "outputs": [],
   "source": []
  }
 ],
 "metadata": {
  "kernelspec": {
   "display_name": "Python 3 (ipykernel)",
   "language": "python",
   "name": "python3"
  },
  "language_info": {
   "codemirror_mode": {
    "name": "ipython",
    "version": 3
   },
   "file_extension": ".py",
   "mimetype": "text/x-python",
   "name": "python",
   "nbconvert_exporter": "python",
   "pygments_lexer": "ipython3",
   "version": "3.7.9"
  }
 },
 "nbformat": 4,
 "nbformat_minor": 5
}
